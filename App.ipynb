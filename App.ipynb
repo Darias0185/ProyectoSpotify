{
 "cells": [
  {
   "cell_type": "code",
   "execution_count": null,
   "id": "9143251d-1d44-4506-b7ef-bb6608962cac",
   "metadata": {},
   "outputs": [],
   "source": [
    "from flask import Flask, request, jsonify\n",
    "from flask_cors import CORS\n",
    "from flask_restx import Api, Resource\n",
    "import joblib\n",
    "import numpy as np\n",
    "import pandas as pd\n",
    "\n",
    "# Inicialización\n",
    "app = Flask(__name__)\n",
    "CORS(app)\n",
    "api = Api(app)\n",
    "\n",
    "# Cargar el modelo\n",
    "modelo = joblib.load('decision_tree_model.pkl')\n",
    "\n",
    "# Define el namespace\n",
    "ns = api.namespace('predict', description='Predicciones del modelo')\n",
    "\n",
    "# Define el recurso\n",
    "@ns.route('/')\n",
    "class Predict(Resource):\n",
    "    def post(self):\n",
    "        data = request.get_json()\n",
    "        # Convertir los datos a DataFrame\n",
    "        input_df = pd.DataFrame([data])\n",
    "        # Realizar la predicción\n",
    "        pred = modelo.predict(input_df)\n",
    "        return jsonify({'prediction': pred.tolist()})\n",
    "\n",
    "if __name__ == '__main__':\n",
    "    app.run(host='0.0.0.0', port=5000, debug=True)\n"
   ]
  }
 ],
 "metadata": {
  "kernelspec": {
   "display_name": "Python 3 (ipykernel)",
   "language": "python",
   "name": "python3"
  },
  "language_info": {
   "codemirror_mode": {
    "name": "ipython",
    "version": 3
   },
   "file_extension": ".py",
   "mimetype": "text/x-python",
   "name": "python",
   "nbconvert_exporter": "python",
   "pygments_lexer": "ipython3",
   "version": "3.11.7"
  }
 },
 "nbformat": 4,
 "nbformat_minor": 5
}
